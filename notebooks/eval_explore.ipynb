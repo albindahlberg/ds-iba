{
 "cells": [
  {
   "cell_type": "code",
   "execution_count": 1,
   "metadata": {},
   "outputs": [],
   "source": [
    "import os\n",
    "import pandas as pd\n",
    "import numpy as np\n",
    "import matplotlib.pyplot as plt"
   ]
  },
  {
   "cell_type": "code",
   "execution_count": 2,
   "metadata": {},
   "outputs": [
    {
     "name": "stdout",
     "output_type": "stream",
     "text": [
      "Found 12 cut files:\n",
      "../cut_eval/cut_1\\I127-36MeV-ScN-11-pos11.Al.ERD.0.cut\n",
      "../cut_eval/cut_1\\I127-36MeV-ScN-11-pos11.C.ERD.0.cut\n",
      "../cut_eval/cut_1\\I127-36MeV-ScN-11-pos11.F.ERD.0.cut\n",
      "../cut_eval/cut_1\\I127-36MeV-ScN-11-pos11.N.ERD.0.cut\n",
      "../cut_eval/cut_1\\I127-36MeV-ScN-11-pos11.O.ERD.0.cut\n",
      "../cut_eval/cut_1\\I127-36MeV-ScN-11-pos11.Sc.ERD.0.cut\n",
      "../cut_eval/cut_2\\I127-36MeV-ScN-10-pos10.Al.ERD.0.cut\n",
      "../cut_eval/cut_2\\I127-36MeV-ScN-10-pos10.C.ERD.0.cut\n",
      "../cut_eval/cut_2\\I127-36MeV-ScN-10-pos10.F.ERD.0.cut\n",
      "../cut_eval/cut_2\\I127-36MeV-ScN-10-pos10.N.ERD.0.cut\n",
      "../cut_eval/cut_2\\I127-36MeV-ScN-10-pos10.O.ERD.0.cut\n",
      "../cut_eval/cut_2\\I127-36MeV-ScN-10-pos10.Sc.ERD.0.cut\n"
     ]
    }
   ],
   "source": [
    "base_dir = \"../cut_eval/\"\n",
    "cut_dirs = [\"cut_1\", \"cut_2\"]\n",
    "\n",
    "cut_files = []\n",
    "for cut_dir in cut_dirs:\n",
    "    dir_path = os.path.join(base_dir, cut_dir)\n",
    "    for file in os.listdir(dir_path):\n",
    "        if file.endswith(\".cut\"):\n",
    "            cut_files.append(os.path.join(dir_path, file))\n",
    "\n",
    "print(f\"Found {len(cut_files)} cut files:\")\n",
    "print(\"\\n\".join(cut_files))"
   ]
  },
  {
   "cell_type": "code",
   "execution_count": 3,
   "metadata": {},
   "outputs": [],
   "source": [
    "def preprocess_cut_file(file_path):\n",
    "    cleaned_lines = []\n",
    "    with open(file_path, 'r') as f:\n",
    "        for line in f:\n",
    "            if line.strip() and not line.startswith(\"#\"):\n",
    "                cleaned_lines.append(line.strip())\n",
    "    return \"\\n\".join(cleaned_lines)\n"
   ]
  },
  {
   "cell_type": "code",
   "execution_count": 4,
   "metadata": {},
   "outputs": [],
   "source": [
    "def load_cut_file(file_path):\n",
    "    try:\n",
    "        with open(file_path, 'r') as f:\n",
    "            lines = f.readlines()\n",
    "        max_columns = max(len(line.split()) for line in lines)\n",
    "        df = pd.read_csv(file_path, sep=\"\\s+\", header=None, engine=\"python\", names=[f\"Column_{i}\" for i in range(max_columns)])\n",
    "        return df\n",
    "    except Exception as e:\n",
    "        print(f\"Error loading file {file_path}: {e}\")\n",
    "        return None"
   ]
  },
  {
   "cell_type": "code",
   "execution_count": 6,
   "metadata": {},
   "outputs": [
    {
     "data": {
      "text/html": [
       "<div>\n",
       "<style scoped>\n",
       "    .dataframe tbody tr th:only-of-type {\n",
       "        vertical-align: middle;\n",
       "    }\n",
       "\n",
       "    .dataframe tbody tr th {\n",
       "        vertical-align: top;\n",
       "    }\n",
       "\n",
       "    .dataframe thead th {\n",
       "        text-align: right;\n",
       "    }\n",
       "</style>\n",
       "<table border=\"1\" class=\"dataframe\">\n",
       "  <thead>\n",
       "    <tr style=\"text-align: right;\">\n",
       "      <th></th>\n",
       "      <th>Column_0</th>\n",
       "      <th>Column_1</th>\n",
       "      <th>Column_2</th>\n",
       "      <th>Column_3</th>\n",
       "    </tr>\n",
       "  </thead>\n",
       "  <tbody>\n",
       "    <tr>\n",
       "      <th>0</th>\n",
       "      <td>Count:</td>\n",
       "      <td>26573</td>\n",
       "      <td>None</td>\n",
       "      <td>None</td>\n",
       "    </tr>\n",
       "    <tr>\n",
       "      <th>1</th>\n",
       "      <td>Type:</td>\n",
       "      <td>ERD</td>\n",
       "      <td>None</td>\n",
       "      <td>None</td>\n",
       "    </tr>\n",
       "    <tr>\n",
       "      <th>2</th>\n",
       "      <td>Weight</td>\n",
       "      <td>Factor:</td>\n",
       "      <td>1.0</td>\n",
       "      <td>None</td>\n",
       "    </tr>\n",
       "    <tr>\n",
       "      <th>3</th>\n",
       "      <td>Energy:</td>\n",
       "      <td>0</td>\n",
       "      <td>None</td>\n",
       "      <td>None</td>\n",
       "    </tr>\n",
       "    <tr>\n",
       "      <th>4</th>\n",
       "      <td>Detector</td>\n",
       "      <td>Angle:</td>\n",
       "      <td>0</td>\n",
       "      <td>None</td>\n",
       "    </tr>\n",
       "  </tbody>\n",
       "</table>\n",
       "</div>"
      ],
      "text/plain": [
       "   Column_0 Column_1 Column_2 Column_3\n",
       "0    Count:    26573     None     None\n",
       "1     Type:      ERD     None     None\n",
       "2    Weight  Factor:      1.0     None\n",
       "3   Energy:        0     None     None\n",
       "4  Detector   Angle:        0     None"
      ]
     },
     "metadata": {},
     "output_type": "display_data"
    }
   ],
   "source": [
    "sample_file = cut_files[0]\n",
    "preprocessed_data = preprocess_cut_file(sample_file)\n",
    "\n",
    "temp_file_path = \"cleaned_sample.cut\"\n",
    "with open(temp_file_path, 'w') as f:\n",
    "    f.write(preprocessed_data)\n",
    "\n",
    "data = load_cut_file(temp_file_path)\n",
    "\n",
    "if data is not None:\n",
    "    display(data.head())"
   ]
  },
  {
   "cell_type": "code",
   "execution_count": null,
   "metadata": {},
   "outputs": [],
   "source": []
  }
 ],
 "metadata": {
  "kernelspec": {
   "display_name": "Python 3",
   "language": "python",
   "name": "python3"
  },
  "language_info": {
   "codemirror_mode": {
    "name": "ipython",
    "version": 3
   },
   "file_extension": ".py",
   "mimetype": "text/x-python",
   "name": "python",
   "nbconvert_exporter": "python",
   "pygments_lexer": "ipython3",
   "version": "3.10.11"
  }
 },
 "nbformat": 4,
 "nbformat_minor": 2
}
